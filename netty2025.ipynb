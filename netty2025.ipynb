{
  "nbformat": 4,
  "nbformat_minor": 0,
  "metadata": {
    "accelerator": "GPU",
    "colab": {
      "provenance": [],
      "include_colab_link": true
    },
    "kernelspec": {
      "display_name": "Python 3",
      "name": "python3"
    }
  },
  "cells": [
    {
      "cell_type": "markdown",
      "metadata": {
        "id": "view-in-github",
        "colab_type": "text"
      },
      "source": [
        "<a href=\"https://colab.research.google.com/github/rybinfx/rybinfx.github.io/blob/main/netty2025.ipynb\" target=\"_parent\"><img src=\"https://colab.research.google.com/assets/colab-badge.svg\" alt=\"Open In Colab\"/></a>"
      ]
    },
    {
      "cell_type": "code",
      "metadata": {
        "colab": {
          "base_uri": "https://localhost:8080/",
          "height": 398
        },
        "id": "FR9-JuZJVOc9",
        "outputId": "086eebb4-56df-4e4e-ae8f-74ea0b61c240"
      },
      "source": [
        "%tensorflow_version 1.x\n",
        "!git clone https://github.com/onetaste108/netty\n",
        "!pip install h5py==2.10.0"
      ],
      "execution_count": null,
      "outputs": [
        {
          "output_type": "error",
          "ename": "ValueError",
          "evalue": "ignored",
          "traceback": [
            "\u001b[0;31m---------------------------------------------------------------------------\u001b[0m",
            "\u001b[0;31mValueError\u001b[0m                                Traceback (most recent call last)",
            "\u001b[0;32m<ipython-input-1-20a03bc9721d>\u001b[0m in \u001b[0;36m<module>\u001b[0;34m\u001b[0m\n\u001b[0;32m----> 1\u001b[0;31m \u001b[0mget_ipython\u001b[0m\u001b[0;34m(\u001b[0m\u001b[0;34m)\u001b[0m\u001b[0;34m.\u001b[0m\u001b[0mrun_line_magic\u001b[0m\u001b[0;34m(\u001b[0m\u001b[0;34m'tensorflow_version'\u001b[0m\u001b[0;34m,\u001b[0m \u001b[0;34m'1.x'\u001b[0m\u001b[0;34m)\u001b[0m\u001b[0;34m\u001b[0m\u001b[0;34m\u001b[0m\u001b[0m\n\u001b[0m\u001b[1;32m      2\u001b[0m \u001b[0mget_ipython\u001b[0m\u001b[0;34m(\u001b[0m\u001b[0;34m)\u001b[0m\u001b[0;34m.\u001b[0m\u001b[0msystem\u001b[0m\u001b[0;34m(\u001b[0m\u001b[0;34m'git clone https://github.com/onetaste108/netty'\u001b[0m\u001b[0;34m)\u001b[0m\u001b[0;34m\u001b[0m\u001b[0;34m\u001b[0m\u001b[0m\n\u001b[1;32m      3\u001b[0m \u001b[0mget_ipython\u001b[0m\u001b[0;34m(\u001b[0m\u001b[0;34m)\u001b[0m\u001b[0;34m.\u001b[0m\u001b[0msystem\u001b[0m\u001b[0;34m(\u001b[0m\u001b[0;34m'pip install h5py==2.10.0'\u001b[0m\u001b[0;34m)\u001b[0m\u001b[0;34m\u001b[0m\u001b[0;34m\u001b[0m\u001b[0m\n",
            "\u001b[0;32m/usr/local/lib/python3.7/dist-packages/IPython/core/interactiveshell.py\u001b[0m in \u001b[0;36mrun_line_magic\u001b[0;34m(self, magic_name, line, _stack_depth)\u001b[0m\n\u001b[1;32m   2312\u001b[0m                 \u001b[0mkwargs\u001b[0m\u001b[0;34m[\u001b[0m\u001b[0;34m'local_ns'\u001b[0m\u001b[0;34m]\u001b[0m \u001b[0;34m=\u001b[0m \u001b[0msys\u001b[0m\u001b[0;34m.\u001b[0m\u001b[0m_getframe\u001b[0m\u001b[0;34m(\u001b[0m\u001b[0mstack_depth\u001b[0m\u001b[0;34m)\u001b[0m\u001b[0;34m.\u001b[0m\u001b[0mf_locals\u001b[0m\u001b[0;34m\u001b[0m\u001b[0;34m\u001b[0m\u001b[0m\n\u001b[1;32m   2313\u001b[0m             \u001b[0;32mwith\u001b[0m \u001b[0mself\u001b[0m\u001b[0;34m.\u001b[0m\u001b[0mbuiltin_trap\u001b[0m\u001b[0;34m:\u001b[0m\u001b[0;34m\u001b[0m\u001b[0;34m\u001b[0m\u001b[0m\n\u001b[0;32m-> 2314\u001b[0;31m                 \u001b[0mresult\u001b[0m \u001b[0;34m=\u001b[0m \u001b[0mfn\u001b[0m\u001b[0;34m(\u001b[0m\u001b[0;34m*\u001b[0m\u001b[0margs\u001b[0m\u001b[0;34m,\u001b[0m \u001b[0;34m**\u001b[0m\u001b[0mkwargs\u001b[0m\u001b[0;34m)\u001b[0m\u001b[0;34m\u001b[0m\u001b[0;34m\u001b[0m\u001b[0m\n\u001b[0m\u001b[1;32m   2315\u001b[0m             \u001b[0;32mreturn\u001b[0m \u001b[0mresult\u001b[0m\u001b[0;34m\u001b[0m\u001b[0;34m\u001b[0m\u001b[0m\n\u001b[1;32m   2316\u001b[0m \u001b[0;34m\u001b[0m\u001b[0m\n",
            "\u001b[0;32m/usr/local/lib/python3.7/dist-packages/google/colab/_tensorflow_magics.py\u001b[0m in \u001b[0;36m_tensorflow_version\u001b[0;34m(line)\u001b[0m\n\u001b[1;32m     39\u001b[0m \u001b[0;34m\u001b[0m\u001b[0m\n\u001b[1;32m     40\u001b[0m              \u001b[0mYour\u001b[0m \u001b[0mnotebook\u001b[0m \u001b[0mshould\u001b[0m \u001b[0mbe\u001b[0m \u001b[0mupdated\u001b[0m \u001b[0mto\u001b[0m \u001b[0muse\u001b[0m \u001b[0mTensorflow\u001b[0m \u001b[0;36m2.\u001b[0m\u001b[0;34m\u001b[0m\u001b[0;34m\u001b[0m\u001b[0m\n\u001b[0;32m---> 41\u001b[0;31m              \u001b[0mSee\u001b[0m \u001b[0mthe\u001b[0m \u001b[0mguide\u001b[0m \u001b[0mat\u001b[0m \u001b[0mhttps\u001b[0m\u001b[0;34m:\u001b[0m\u001b[0;34m//\u001b[0m\u001b[0mwww\u001b[0m\u001b[0;34m.\u001b[0m\u001b[0mtensorflow\u001b[0m\u001b[0;34m.\u001b[0m\u001b[0morg\u001b[0m\u001b[0;34m/\u001b[0m\u001b[0mguide\u001b[0m\u001b[0;34m/\u001b[0m\u001b[0mmigrate\u001b[0m\u001b[0;31m#migrate-from-tensorflow-1x-to-tensorflow-2.\"\"\"\u001b[0m\u001b[0;34m\u001b[0m\u001b[0;34m\u001b[0m\u001b[0m\n\u001b[0m\u001b[1;32m     42\u001b[0m                        ))\n\u001b[1;32m     43\u001b[0m \u001b[0;34m\u001b[0m\u001b[0m\n",
            "\u001b[0;31mValueError\u001b[0m: Tensorflow 1 is unsupported in Colab.\n\nYour notebook should be updated to use Tensorflow 2.\nSee the guide at https://www.tensorflow.org/guide/migrate#migrate-from-tensorflow-1x-to-tensorflow-2."
          ]
        }
      ]
    },
    {
      "cell_type": "code",
      "metadata": {
        "id": "ELYPMkJcVexS"
      },
      "source": [
        "#@title Блип {vertical-output: true}\n",
        "\n",
        "\n",
        "from netty import Netty\n",
        "from netty import imutil as im\n",
        "import numpy as np\n",
        "import os\n",
        "from google.colab import files\n",
        "os.makedirs(\"IN\", exist_ok=True)\n",
        "os.makedirs(\"OUT\", exist_ok=True)"
      ],
      "execution_count": null,
      "outputs": []
    },
    {
      "cell_type": "code",
      "metadata": {
        "id": "cjXqTbmZ9cJT"
      },
      "source": [
        "#@title Блоп {vertical-output: true}\n",
        "\n",
        "def render(IMAGES, BACKGROUND, MIN_SIZE, MAX_SIZE, STEP, ITERS):\n",
        "\n",
        "  if len(BACKGROUND) == 0:\n",
        "    x0 = None\n",
        "  else:\n",
        "    x0 = im.load(\"IN\"+\"/\"+BACKGROUND)\n",
        "  if type(MIN_SIZE) in (tuple, list):\n",
        "    size = np.int32(MIN_SIZE)\n",
        "  else:\n",
        "    size = np.int32([MIN_SIZE, MIN_SIZE])\n",
        "  if type(IMAGES) not in (tuple, list):\n",
        "    IMAGES = [IMAGES]\n",
        "  imgs = []\n",
        "  name = \"bg_\"+BACKGROUND+\"_size_\"+str(size)\n",
        "  for img in IMAGES:\n",
        "    name += \"_\"+img\n",
        "    imgs.append(im.load(\"IN/\"+img))\n",
        "\n",
        "  it = 0\n",
        "  while True:\n",
        "    fs = [os.path.splitext(f)[0] for f in os.listdir(\"OUT\")]\n",
        "    if name+str(it) not in fs:\n",
        "      name = name+str(it)\n",
        "      break\n",
        "    else:\n",
        "      it += 1\n",
        "\n",
        "  net = Netty()\n",
        "\n",
        "  iters = ITERS\n",
        "  while max(size) <= MAX_SIZE:\n",
        "    net.clear()\n",
        "    net.size(*size)\n",
        "    net.x0(x0)\n",
        "    for img in imgs:\n",
        "      net.style(img, [1,4,7,9], [1,1,1,0.01])\n",
        "    x0 = net.render(iters)\n",
        "    size = np.int32(size*STEP/2)*2\n",
        "    iters = iters // STEP\n",
        "    im.save(x0, \"OUT/\"+name+\".jpg\")\n",
        "\n",
        "  files.download(\"OUT/\"+name+\".jpg\")"
      ],
      "execution_count": null,
      "outputs": []
    },
    {
      "cell_type": "code",
      "metadata": {
        "id": "YFmtuwAvEWbU"
      },
      "source": [
        "from google.colab import drive\n",
        "drive.mount('/content/drive')"
      ],
      "execution_count": null,
      "outputs": []
    },
    {
      "cell_type": "code",
      "metadata": {
        "id": "7zW2yAi3jsl8"
      },
      "source": [
        "#@title Рендер всех {vertical-output: true}\n",
        "\n",
        "# RENDEL ALL IN\n",
        "\n",
        "IMAGES = [[f] for f in os.listdir(\"IN\") if f[0] != \".\"]\n",
        "BACKGROUND = \"\"\n",
        "MIN_SIZE = 462\n",
        "MAX_SIZE = 1000\n",
        "\n",
        "STEP = 2\n",
        "ITERS = 500\n",
        "\n"
      ],
      "execution_count": null,
      "outputs": []
    },
    {
      "cell_type": "code",
      "metadata": {
        "id": "DhHKJMM2Vmfz",
        "colab": {
          "base_uri": "https://localhost:8080/",
          "height": 246
        },
        "outputId": "07fa9dc0-d1e5-4d0e-8827-1f1122be9669"
      },
      "source": [
        "#@title Смешать {vertical-output: true}\n",
        "IMAGES = \"1.jpeg\",\n",
        "MIN_SIZE = 70\n",
        "MAX_SIZE = 5100\n",
        "\n",
        "STEP = 2\n",
        "ITERS = 700\n",
        "\n",
        "render(IMAGES, BACKGROUND, MIN_SIZE, MAX_SIZE, STEP, ITERS)"
      ],
      "execution_count": null,
      "outputs": [
        {
          "output_type": "error",
          "ename": "NameError",
          "evalue": "ignored",
          "traceback": [
            "\u001b[0;31m---------------------------------------------------------------------------\u001b[0m",
            "\u001b[0;31mNameError\u001b[0m                                 Traceback (most recent call last)",
            "\u001b[0;32m<ipython-input-4-8bdbae0d9531>\u001b[0m in \u001b[0;36m<module>\u001b[0;34m()\u001b[0m\n\u001b[1;32m      7\u001b[0m \u001b[0mITERS\u001b[0m \u001b[0;34m=\u001b[0m \u001b[0;36m700\u001b[0m\u001b[0;34m\u001b[0m\u001b[0;34m\u001b[0m\u001b[0m\n\u001b[1;32m      8\u001b[0m \u001b[0;34m\u001b[0m\u001b[0m\n\u001b[0;32m----> 9\u001b[0;31m \u001b[0mrender\u001b[0m\u001b[0;34m(\u001b[0m\u001b[0mIMAGES\u001b[0m\u001b[0;34m,\u001b[0m \u001b[0mBACKGROUND\u001b[0m\u001b[0;34m,\u001b[0m \u001b[0mMIN_SIZE\u001b[0m\u001b[0;34m,\u001b[0m \u001b[0mMAX_SIZE\u001b[0m\u001b[0;34m,\u001b[0m \u001b[0mSTEP\u001b[0m\u001b[0;34m,\u001b[0m \u001b[0mITERS\u001b[0m\u001b[0;34m)\u001b[0m\u001b[0;34m\u001b[0m\u001b[0;34m\u001b[0m\u001b[0m\n\u001b[0m",
            "\u001b[0;31mNameError\u001b[0m: name 'BACKGROUND' is not defined"
          ]
        }
      ]
    },
    {
      "cell_type": "code",
      "metadata": {
        "cellView": "form",
        "id": "lEpD0fM0dNic"
      },
      "source": [
        "#@title DOWNLOAD OUT\n",
        "\n",
        "!zip -r OUT.zip OUT/\n",
        "from google.colab import files\n",
        "files.download(\"OUT.zip\")"
      ],
      "execution_count": null,
      "outputs": []
    },
    {
      "cell_type": "code",
      "metadata": {
        "cellView": "form",
        "id": "AE7XqnA6irqi"
      },
      "source": [
        "#@title CLEAR IN\n",
        "\n",
        "!rm -r IN\n",
        "os.makedirs(\"IN\", exist_ok=True)"
      ],
      "execution_count": null,
      "outputs": []
    },
    {
      "cell_type": "code",
      "metadata": {
        "cellView": "form",
        "id": "yFqXu0LFi0Dh"
      },
      "source": [
        "#@title CLEAR OUT\n",
        "\n",
        "!rm -r OUT\n",
        "os.makedirs(\"OUT\", exist_ok=True)"
      ],
      "execution_count": null,
      "outputs": []
    }
  ]
}